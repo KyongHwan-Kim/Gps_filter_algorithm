{
 "cells": [
  {
   "cell_type": "code",
   "execution_count": 79,
   "id": "a6f20a85",
   "metadata": {},
   "outputs": [],
   "source": [
    "# GPS Algorithm Code 실행 방법\n",
    "# 1. Anaconda 가상환경 새로 만들기 (conda create -n <환경이름> python=3.8.5)\n",
    "# 2. conda activate <환경이름>\n",
    "# 3. (환경이름) >> conda install matplotlib=3.3.2 pandas=1.2.4 numpy=1.19.2 jupyter\n",
    "# 4. (환경이름) >> conda install -c conda-forge haversine\n",
    "# 5. (환경이름) >> conda install -c conda-forge folium\n",
    "# 6. >> jupyter notebook"
   ]
  },
  {
   "cell_type": "code",
   "execution_count": 80,
   "id": "4207520b",
   "metadata": {},
   "outputs": [],
   "source": [
    "# 전역 변수 설정\n",
    "PATIENT_UID = '2DDB3706DE4F7B45'# 감염자 UID\n",
    "# TARGET_UID =  # 조사 대상자 UID\n",
    "\n",
    "FILE_SAVE_DIR = './' #있다면 추가 해주기 (상대경로)\n",
    "line_color_list = ['red', 'blue', 'green', 'purple', 'orange', 'darkred',\n",
    "                    'lightred', 'beige', 'darkblue', 'darkgreen', 'cadetblue', 'darkpurple', 'white',\n",
    "                    'pink', 'lightblue', 'lightgreen', 'gray', 'black', 'lightgray'] "
   ]
  },
  {
   "cell_type": "code",
   "execution_count": 81,
   "id": "bc848aa1",
   "metadata": {},
   "outputs": [],
   "source": [
    "import pandas as pd\n",
    "import numpy as np\n",
    "from csv import reader\n",
    "from numpy import linalg as la\n",
    "from sys import exit\n",
    "from haversine import haversine\n",
    "import math\n",
    "from operator import itemgetter\n",
    "\n",
    "#시각화 도구\n",
    "import folium\n",
    "from folium.features import DivIcon"
   ]
  },
  {
   "cell_type": "code",
   "execution_count": 82,
   "id": "03189839",
   "metadata": {},
   "outputs": [],
   "source": [
    "#Call CSV file\n",
    "def load_GPS_set(UID): # Data load\n",
    "    try:\n",
    "        data_set = pd.read_csv(FILE_SAVE_DIR + UID +\"_gps\"+\".csv\", sep=\",\", dtype='unicode')\n",
    "        data_set['TIME STAMP'] = pd.to_datetime(data_set['LOG TIME'])\n",
    "        data_set['TIME'] = data_set['TIME STAMP'].dt.strftime('%Y-%m-%d %H:%M') # 초단위 자르기\n",
    "        # data_set['STAMP_TIME'] = pd.to_datetime(data_set['TIME']) # stamp_time datetime 형식으로 변경\n",
    "        re_data_set = data_set[[\"TIME\",\"UID\",\"altitude\",\"latitude\",\"longitude\",\"provider\"]]\n",
    "        return re_data_set\n",
    "    \n",
    "    except FileNotFoundError as e:\n",
    "        pass\n",
    "def load_Sateillate_set(UID): # Data load\n",
    "    try:\n",
    "        data_set = pd.read_csv(FILE_SAVE_DIR + UID +\"_sate\"+\".csv\", sep=\",\", dtype='unicode')\n",
    "        data_set['TIME STAMP'] = pd.to_datetime(data_set['LOG TIME'])\n",
    "        data_set['TIME'] = data_set['TIME STAMP'].dt.strftime('%Y-%m-%d %H:%M') # 초단위 자르기\n",
    "        # data_set['STAMP_TIME'] = pd.to_datetime(data_set['TIME']) # stamp_time datetime 형식으로 변경\n",
    "        re_data_set = data_set[[\"TIME\",\"UID\",\"SNR AVERAGE\",\"SATELLITE COUNT\"]]\n",
    "        return re_data_set\n",
    "    \n",
    "    except FileNotFoundError as e:\n",
    "        pass\n",
    "\n",
    "def merge_gps_sati_set(gps_df, UID): # for weight_filter\n",
    "    merge_df = pd.merge(gps_df,load_Sateillate_set(UID), how='left', on = ['TIME','UID'])\n",
    "    return merge_df\n",
    "\n",
    "test_df = load_GPS_set(PATIENT_UID)\n",
    "merge_df = merge_gps_sati_set(test_df,PATIENT_UID)\n",
    "\n"
   ]
  },
  {
   "cell_type": "code",
   "execution_count": 83,
   "id": "acd4889c",
   "metadata": {},
   "outputs": [
    {
     "data": {
      "text/plain": [
       "<folium.vector_layers.PolyLine at 0x1b3aca29f70>"
      ]
     },
     "execution_count": 83,
     "metadata": {},
     "output_type": "execute_result"
    }
   ],
   "source": [
    "map_1 = folium.Map(location = [37.5505938572,127.074236903], zoom_start =100) # 세종대학교 중심 조사\n",
    "marker_list = [[0,0],[0,0]]\n",
    "line_list = []\n",
    "extract_list = []\n",
    "total_list = []\n",
    "\n",
    "\n",
    "for count in test_df.index.values[120:131]:\n",
    "    marker_point_lati = float(test_df.loc[count,'latitude'])\n",
    "    marker_point_long = float(test_df.loc[count,'longitude'])\n",
    "    marker_point = [marker_point_lati, marker_point_long]\n",
    "    \n",
    "    folium.Marker(marker_point, icon=DivIcon(icon_size=(10,3),icon_anchor=(7,20),\n",
    "            html='<div style=\"font-size: 5pt; color : black\">'+str(count)+'</div>',\n",
    "            )).add_to(map_1)\n",
    "    \n",
    "    \n",
    "    marker_list.pop(0)\n",
    "    marker_list.append(marker_point)\n",
    "    total_list.append(marker_point)\n",
    "    if count == 0 :\n",
    "        line_list.append(marker_point)\n",
    "        pass\n",
    "    else :\n",
    "        gps_dis = haversine(marker_list[0], marker_list[1]) * 1000 #(m) \n",
    "        if gps_dis > 50 : #GPS 거리로 1분에 50m 이상 이동했을경우 튄값이라고 생각하고 배제\n",
    "            extract_list.append(marker_point)\n",
    "            pass\n",
    "\n",
    "        elif (gps_dis <= 50) & (gps_dis != 0) :\n",
    "#             folium.Marker(marker_point, popup=count, icon=DivIcon(icon_size=(10,3),icon_anchor=(7,20),\n",
    "#             html='<div style=\"font-size: 5pt; color : black\">'+str(count)+'</div>',\n",
    "#             )).add_to(map_1)\n",
    "            line_list.append(marker_point)\n",
    "    \n",
    "\n",
    "folium.PolyLine(locations=line_list,tooltip='Polyline',color='blue').add_to(map_1)\n",
    "folium.PolyLine(locations=extract_list,tooltip='Polyline',color='red').add_to(map_1) # 1분당 최소 이동거리 70N이상 Red Line\n",
    "folium.PolyLine(locations=total_list,tooltip='Polyline',color='green').add_to(map_1)\n",
    "\n",
    "# map_1\n",
    "    #m.add_child(folium.CircleMarker(p1, radius=15))"
   ]
  },
  {
   "cell_type": "code",
   "execution_count": 84,
   "id": "ff7c9f24",
   "metadata": {},
   "outputs": [
    {
     "data": {
      "text/plain": [
       "<folium.vector_layers.PolyLine at 0x1b3ac88ccd0>"
      ]
     },
     "execution_count": 84,
     "metadata": {},
     "output_type": "execute_result"
    }
   ],
   "source": [
    "map_2 = folium.Map(location = [37.5505938572,127.074236903], zoom_start =16) # 세종대학교 중심 조사\n",
    "marker_list = [[0,0],[0,0]]\n",
    "line_list = []\n",
    "cluster_list = [] #clustering list\n",
    "clustering_size = 10\n",
    "res_list = []\n",
    "                \n",
    "                \n",
    "mean_point_list = [] # filtering point list\n",
    "for count in test_df.index.values[120:131]:\n",
    "    \n",
    "    marker_point_lati = float(test_df.loc[count,'latitude'])\n",
    "    marker_point_long = float(test_df.loc[count,'longitude'])\n",
    "    marker_point = [marker_point_lati, marker_point_long]\n",
    "    \n",
    "#     folium.Marker(marker_point, icon=DivIcon(icon_size=(10,3),icon_anchor=(7,20),\n",
    "#             html='<div style=\"font-size: 5pt; color : black\">'+str(count)+'</div>',\n",
    "#             )).add_to(map)\n",
    "    \n",
    "    if len(cluster_list) != clustering_size:\n",
    "        cluster_list.append(marker_point)\n",
    "\n",
    "\n",
    "    else : # cluster_list full\n",
    "        for point in range(0, clustering_size-1): # Depth Level 1\n",
    "\n",
    "            current_point = cluster_list[point]\n",
    "            next_point = cluster_list[point+1]\n",
    "            mean_point_x = (current_point[0] + next_point[0])/2\n",
    "            mean_point_y = (current_point[1] + next_point[1])/2\n",
    "            mean_point = [mean_point_x, mean_point_y]\n",
    "\n",
    "            mean_point_list.append(mean_point)\n",
    "folium.PolyLine(locations=mean_point_list,tooltip='Polyline', color='blue').add_to(map_2)\n",
    "# map_2"
   ]
  },
  {
   "cell_type": "code",
   "execution_count": 85,
   "id": "84da0b5e",
   "metadata": {},
   "outputs": [
    {
     "data": {
      "text/plain": [
       "<folium.vector_layers.PolyLine at 0x1b3ac7d2f10>"
      ]
     },
     "execution_count": 85,
     "metadata": {},
     "output_type": "execute_result"
    }
   ],
   "source": [
    "#GPS FIllering by Clustering for Mean Filter\n",
    "Mean_map = folium.Map(location = [37.5505938572,127.074236903], zoom_start =100) # 세종대학교 중심 조사\n",
    "marker_list = [[0,0],[0,0]]\n",
    "mean_cluster_list = [] #clustering list\n",
    "clustering_size = 10\n",
    "res_list = []\n",
    "Depth_Level = 4       \n",
    "mean_point_list = [] # filtering point list\n",
    "######################################################################\n",
    "\n",
    "for count in test_df.index.values[120:131]:\n",
    "    marker_point_lati = float(test_df.loc[count,'latitude'])\n",
    "    marker_point_long = float(test_df.loc[count,'longitude'])\n",
    "    marker_point = [marker_point_lati, marker_point_long]\n",
    "    \n",
    "    if len(mean_cluster_list) != clustering_size: # cluster_list isnot full\n",
    "        mean_cluster_list.append(marker_point)\n",
    "        continue\n",
    "   \n",
    "    else : # mean_cluster_list full\n",
    "        while True:\n",
    "            res_list.append(mean_cluster_list) # depth별 list\n",
    "            if len(mean_cluster_list) == Depth_Level:\n",
    "                break\n",
    "            for point in range(0, len(mean_cluster_list)-1): # Depth Level 1\n",
    "\n",
    "                current_point = mean_cluster_list[point]\n",
    "                next_point = mean_cluster_list[point+1]\n",
    "                mean_point_x = (current_point[0] + next_point[0])/2\n",
    "                mean_point_y = (current_point[1] + next_point[1])/2\n",
    "                mean_point = [mean_point_x, mean_point_y]\n",
    "\n",
    "                mean_point_list.append(mean_point)\n",
    "            mean_cluster_list = mean_point_list\n",
    "            mean_point_list =[] # mean_point_list clear\n",
    "\n",
    "folium.PolyLine(locations=mean_cluster_list,tooltip='Polyline', color='blue').add_to(Mean_map) # draw line\n",
    "\n",
    "# for index in range(0, len(res_list)):\n",
    "#     folium.PolyLine(locations=res_list[index],tooltip='Polyline', color=line_color_list[index]).add_to(Mean_map)\n",
    "\n",
    "# Mean_map  \n"
   ]
  },
  {
   "cell_type": "code",
   "execution_count": 86,
   "id": "d18e9d87",
   "metadata": {},
   "outputs": [
    {
     "ename": "IndexError",
     "evalue": "list index out of range",
     "output_type": "error",
     "traceback": [
      "\u001b[1;31m---------------------------------------------------------------------------\u001b[0m",
      "\u001b[1;31mIndexError\u001b[0m                                Traceback (most recent call last)",
      "\u001b[1;32m~\\AppData\\Local\\Temp/ipykernel_13156/2637790695.py\u001b[0m in \u001b[0;36m<module>\u001b[1;34m\u001b[0m\n\u001b[0;32m     33\u001b[0m                 \u001b[0mcurrent_point\u001b[0m \u001b[1;33m=\u001b[0m \u001b[0mweight_cluster_list\u001b[0m\u001b[1;33m[\u001b[0m\u001b[0mpoint\u001b[0m\u001b[1;33m]\u001b[0m\u001b[1;33m\u001b[0m\u001b[1;33m\u001b[0m\u001b[0m\n\u001b[0;32m     34\u001b[0m                 \u001b[0mnext_point\u001b[0m \u001b[1;33m=\u001b[0m \u001b[0mweight_cluster_list\u001b[0m\u001b[1;33m[\u001b[0m\u001b[0mpoint\u001b[0m\u001b[1;33m+\u001b[0m\u001b[1;36m1\u001b[0m\u001b[1;33m]\u001b[0m\u001b[1;33m\u001b[0m\u001b[1;33m\u001b[0m\u001b[0m\n\u001b[1;32m---> 35\u001b[1;33m                 \u001b[0mweight_point_x\u001b[0m \u001b[1;33m=\u001b[0m \u001b[1;33m(\u001b[0m\u001b[0mcurrent_point\u001b[0m\u001b[1;33m[\u001b[0m\u001b[1;36m2\u001b[0m\u001b[1;33m]\u001b[0m\u001b[1;33m*\u001b[0m\u001b[0mcurrent_point\u001b[0m\u001b[1;33m[\u001b[0m\u001b[1;36m0\u001b[0m\u001b[1;33m]\u001b[0m \u001b[1;33m+\u001b[0m \u001b[0mnext_point\u001b[0m\u001b[1;33m[\u001b[0m\u001b[1;36m2\u001b[0m\u001b[1;33m]\u001b[0m\u001b[1;33m*\u001b[0m\u001b[0mnext_point\u001b[0m\u001b[1;33m[\u001b[0m\u001b[1;36m0\u001b[0m\u001b[1;33m]\u001b[0m\u001b[1;33m)\u001b[0m\u001b[1;33m/\u001b[0m\u001b[1;33m(\u001b[0m\u001b[0mcurrent_point\u001b[0m\u001b[1;33m[\u001b[0m\u001b[1;36m2\u001b[0m\u001b[1;33m]\u001b[0m\u001b[1;33m+\u001b[0m\u001b[0mnext_point\u001b[0m\u001b[1;33m[\u001b[0m\u001b[1;36m2\u001b[0m\u001b[1;33m]\u001b[0m\u001b[1;33m)\u001b[0m \u001b[1;31m#기존 내분점 공식을 그대로 적용하면 x, 변형 필요\u001b[0m\u001b[1;33m\u001b[0m\u001b[1;33m\u001b[0m\u001b[0m\n\u001b[0m\u001b[0;32m     36\u001b[0m                 \u001b[0mweight_point_y\u001b[0m \u001b[1;33m=\u001b[0m \u001b[1;33m(\u001b[0m\u001b[0mcurrent_point\u001b[0m\u001b[1;33m[\u001b[0m\u001b[1;36m2\u001b[0m\u001b[1;33m]\u001b[0m\u001b[1;33m*\u001b[0m\u001b[0mcurrent_point\u001b[0m\u001b[1;33m[\u001b[0m\u001b[1;36m1\u001b[0m\u001b[1;33m]\u001b[0m \u001b[1;33m+\u001b[0m \u001b[0mnext_point\u001b[0m\u001b[1;33m[\u001b[0m\u001b[1;36m2\u001b[0m\u001b[1;33m]\u001b[0m\u001b[1;33m*\u001b[0m\u001b[0mnext_point\u001b[0m\u001b[1;33m[\u001b[0m\u001b[1;36m1\u001b[0m\u001b[1;33m]\u001b[0m\u001b[1;33m)\u001b[0m\u001b[1;33m/\u001b[0m\u001b[1;33m(\u001b[0m\u001b[0mcurrent_point\u001b[0m\u001b[1;33m[\u001b[0m\u001b[1;36m2\u001b[0m\u001b[1;33m]\u001b[0m\u001b[1;33m+\u001b[0m\u001b[0mnext_point\u001b[0m\u001b[1;33m[\u001b[0m\u001b[1;36m2\u001b[0m\u001b[1;33m]\u001b[0m\u001b[1;33m)\u001b[0m\u001b[1;33m\u001b[0m\u001b[1;33m\u001b[0m\u001b[0m\n\u001b[0;32m     37\u001b[0m                 \u001b[0mweight_point_count\u001b[0m \u001b[1;33m=\u001b[0m \u001b[0mcurrent_point\u001b[0m\u001b[1;33m[\u001b[0m\u001b[1;36m2\u001b[0m\u001b[1;33m]\u001b[0m \u001b[1;33m+\u001b[0m \u001b[0mnext_point\u001b[0m\u001b[1;33m[\u001b[0m\u001b[1;36m2\u001b[0m\u001b[1;33m]\u001b[0m\u001b[1;33m\u001b[0m\u001b[1;33m\u001b[0m\u001b[0m\n",
      "\u001b[1;31mIndexError\u001b[0m: list index out of range"
     ]
    }
   ],
   "source": [
    "#GPS FIllering by Clustering for weight Filter\n",
    "weight_map = folium.Map(location = [37.5505938572,127.074236903], zoom_start =100) # 세종대학교 중심 조사\n",
    "weight_cluster_list = [] #clustering list\n",
    "clustering_size = 10\n",
    "res_list = []\n",
    "Depth_Level = 9     \n",
    "weight_point_list = [] # filtering point list\n",
    "######################################################################\n",
    "\n",
    "for count in test_df.index.values[120:222]:\n",
    "    level = 0\n",
    "    marker_point_lati = float(merge_df.loc[count,'latitude'])\n",
    "    marker_point_long = float(merge_df.loc[count,'longitude'])\n",
    "    if merge_df.loc[count,'SATELLITE COUNT'] == np.nan : #위성정보가 오류로 수집이 안되었을 경우 0으로 처리\n",
    "        marker_point_count = 0 # weight\n",
    "    else:\n",
    "        marker_point_count = int(merge_df.loc[count,'SATELLITE COUNT']) # weight\n",
    "    marker_point = [marker_point_lati, marker_point_long, marker_point_count]\n",
    "    \n",
    "    if len(weight_cluster_list) != clustering_size: # cluster_list isnot full\n",
    "        weight_cluster_list.append(marker_point)\n",
    "        continue\n",
    "   \n",
    "    else : # cluster_list full\n",
    "        while True:\n",
    "            res_list.append(weight_cluster_list) # depth별 list\n",
    "            if len(weight_cluster_list) == Depth_Level:\n",
    "                for index in range(0, len(res_list)): # 지도에 표시하기 위해 list에서 weight 제거 작업\n",
    "                    for count in range(0, len(res_list[index])):\n",
    "                        res_list[index][count] = res_list[index][count][:2]\n",
    "                break\n",
    "            for point in range(0, len(weight_cluster_list)-1): # Depth Level 1\n",
    "                current_point = weight_cluster_list[point]\n",
    "                next_point = weight_cluster_list[point+1]\n",
    "                weight_point_x = (current_point[2]*current_point[0] + next_point[2]*next_point[0])/(current_point[2]+next_point[2]) #기존 내분점 공식을 그대로 적용하면 x, 변형 필요\n",
    "                weight_point_y = (current_point[2]*current_point[1] + next_point[2]*next_point[1])/(current_point[2]+next_point[2])\n",
    "                weight_point_count = current_point[2] + next_point[2]\n",
    "                weight_point = [weight_point_x, weight_point_y, weight_point_count]\n",
    "\n",
    "                weight_point_list.append(weight_point)\n",
    "            weight_cluster_list = weight_point_list\n",
    "            weight_point_list =[] # weight_point_list clear\n",
    "            level = level + 1\n",
    "\n",
    "# folium.PolyLine(locations=weight_cluster_list,tooltip='Polyline', color='blue').add_to(weight_map) # draw line\n",
    "for index in range(0, len(res_list)):\n",
    "    folium.PolyLine(locations=res_list[index],tooltip='Polyline', color=line_color_list[index]).add_to(weight_map)\n",
    "\n",
    "# weight_map  \n"
   ]
  },
  {
   "cell_type": "code",
   "execution_count": null,
   "id": "40477e3e",
   "metadata": {},
   "outputs": [],
   "source": [
    "#GPS FIllering by Clustering for Centriod Filter\n",
    "def Centriod_Filter():\n",
    "    Centriod_map = folium.Map(location = [37.5505938572,127.074236903], zoom_start =16) # 세종대학교 중심 조사\n",
    "    Centriod_cluster_list = [] #clustering list\n",
    "    clustering_size = 8\n",
    "    res_list = []\n",
    "    Depth_Level = 2 # must even constant      \n",
    "    Centriod_point_list = [] # filtering point list\n",
    "    ######################################################################\n",
    "\n",
    "    for count in test_df.index.values[120:131]:\n",
    "        marker_point_lati = float(test_df.loc[count,'latitude'])\n",
    "        marker_point_long = float(test_df.loc[count,'longitude'])\n",
    "        marker_point = [marker_point_lati, marker_point_long]\n",
    "        \n",
    "        if len(Centriod_cluster_list) != clustering_size: # cluster_list isnot full\n",
    "            Centriod_cluster_list.append(marker_point)\n",
    "            continue\n",
    "    \n",
    "        else : # cluster_list full\n",
    "            while True:\n",
    "                res_list.append(Centriod_cluster_list) # depth별 list\n",
    "                if len(Centriod_cluster_list) == Depth_Level:\n",
    "                    break\n",
    "                for point in range(0, len(Centriod_cluster_list)-2): # Depth Level 1\n",
    "\n",
    "                    current_point = Centriod_cluster_list[point]\n",
    "                    second_point = Centriod_cluster_list[point+1]\n",
    "                    third_point = Centriod_cluster_list[point+2]\n",
    "                    Centriod_point_x = (current_point[0] + second_point[0] + third_point[0])/3\n",
    "                    Centriod_point_y = (current_point[1] + second_point[1] + third_point[1])/3\n",
    "                    Centriod_point = [Centriod_point_x, Centriod_point_y]\n",
    "\n",
    "                    Centriod_point_list.append(Centriod_point)\n",
    "                Centriod_cluster_list = Centriod_point_list\n",
    "                Centriod_point_list =[] # mean_point_list clear\n",
    "\n",
    "    # folium.PolyLine(locations=Centriod_cluster_list,tooltip='Polyline', color='blue').add_to(Centriod_map) # draw line\n",
    "\n",
    "    for index in range(0, len(res_list)):\n",
    "        folium.PolyLine(locations=res_list[index],tooltip='Polyline', color=line_color_list[index]).add_to(Centriod_map)\n",
    "\n",
    "    # Centriod_map  \n"
   ]
  },
  {
   "cell_type": "code",
   "execution_count": null,
   "id": "9d8b0a90",
   "metadata": {},
   "outputs": [],
   "source": [
    "#GPS FIllering by Clustering + PreFilter\n",
    "Mass_map = folium.Map(location = [37.5505938572,127.074236903], zoom_start =100) # 세종대학교 중심 조사\n",
    "Mass_cluster_list = [] #clustering list\n",
    "clustering_size = 7 #(minute)\n",
    "res_list = [] # result list\n",
    "######################################################################\n",
    "\n",
    "for count in test_df.index.values[120:223]:\n",
    "    marker_point_lati = float(test_df.loc[count,'latitude'])\n",
    "    marker_point_long = float(test_df.loc[count,'longitude'])\n",
    "    marker_point = [marker_point_lati, marker_point_long]\n",
    "\n",
    "    # 전처리 과정\n",
    "    if len(Mass_cluster_list) < clustering_size: # cluster_list isnot full\n",
    "        if len(Mass_cluster_list) >= 1:\n",
    "            gps_dis = haversine(Mass_cluster_list[len(Mass_cluster_list)-1], marker_point) * 1000 #(m) \n",
    "            if gps_dis > 50:\n",
    "                replace_point_x = (Mass_cluster_list[len(Mass_cluster_list)-1][0] + marker_point[0]) / 2\n",
    "                replace_point_y = (Mass_cluster_list[len(Mass_cluster_list)-1][1] + marker_point[1]) / 2\n",
    "                replace_point = [replace_point_x, replace_point_y]\n",
    "                # Mass_cluster_list.append(Mass_cluster_list[len(Mass_cluster_list)-1]) # 이전 포인트를 그대로 넣느냐\n",
    "                Mass_cluster_list.append(replace_point) # Mean Point로 대체해서 넣느냐\n",
    "            else :\n",
    "                Mass_cluster_list.append(marker_point)\n",
    "        else:\n",
    "            Mass_cluster_list.append(marker_point)\n",
    "   \n",
    "    else: # cluster_list full\n",
    "        sum_point_x = 0\n",
    "        sum_point_y = 0\n",
    "        for idx in range(0,clustering_size):\n",
    "            sum_point_x += Mass_cluster_list[idx][0]\n",
    "            sum_point_y += Mass_cluster_list[idx][1]\n",
    "        mass_point = [sum_point_x/clustering_size, sum_point_y/clustering_size]\n",
    "        res_list.append(mass_point)\n",
    "        Mass_cluster_list.pop(0)\n",
    "\n",
    "        \n",
    "\n",
    "# print(res_list)\n",
    "# folium.PolyLine(locations=res_list,tooltip='Polyline', color='blue').add_to(Mass_map) # draw line\n",
    "\n",
    "# for index in range(0, len(res_list)):\n",
    "#     folium.PolyLine(locations=res_list[index],tooltip='Polyline', color=line_color_list[index]).add_to(Centriod_map)\n",
    "\n",
    "# Mass_map  \n"
   ]
  },
  {
   "cell_type": "code",
   "execution_count": 93,
   "id": "44229862",
   "metadata": {},
   "outputs": [
    {
     "data": {
      "text/html": [
       "<div style=\"width:100%;\"><div style=\"position:relative;width:100%;height:0;padding-bottom:60%;\"><span style=\"color:#565656\">Make this Notebook Trusted to load map: File -> Trust Notebook</span><iframe src=\"about:blank\" style=\"position:absolute;width:100%;height:100%;left:0;top:0;border:none !important;\" data-html=%3C%21DOCTYPE%20html%3E%0A%3Chead%3E%20%20%20%20%0A%20%20%20%20%3Cmeta%20http-equiv%3D%22content-type%22%20content%3D%22text/html%3B%20charset%3DUTF-8%22%20/%3E%0A%20%20%20%20%0A%20%20%20%20%20%20%20%20%3Cscript%3E%0A%20%20%20%20%20%20%20%20%20%20%20%20L_NO_TOUCH%20%3D%20false%3B%0A%20%20%20%20%20%20%20%20%20%20%20%20L_DISABLE_3D%20%3D%20false%3B%0A%20%20%20%20%20%20%20%20%3C/script%3E%0A%20%20%20%20%0A%20%20%20%20%3Cstyle%3Ehtml%2C%20body%20%7Bwidth%3A%20100%25%3Bheight%3A%20100%25%3Bmargin%3A%200%3Bpadding%3A%200%3B%7D%3C/style%3E%0A%20%20%20%20%3Cstyle%3E%23map%20%7Bposition%3Aabsolute%3Btop%3A0%3Bbottom%3A0%3Bright%3A0%3Bleft%3A0%3B%7D%3C/style%3E%0A%20%20%20%20%3Cscript%20src%3D%22https%3A//cdn.jsdelivr.net/npm/leaflet%401.6.0/dist/leaflet.js%22%3E%3C/script%3E%0A%20%20%20%20%3Cscript%20src%3D%22https%3A//code.jquery.com/jquery-1.12.4.min.js%22%3E%3C/script%3E%0A%20%20%20%20%3Cscript%20src%3D%22https%3A//maxcdn.bootstrapcdn.com/bootstrap/3.2.0/js/bootstrap.min.js%22%3E%3C/script%3E%0A%20%20%20%20%3Cscript%20src%3D%22https%3A//cdnjs.cloudflare.com/ajax/libs/Leaflet.awesome-markers/2.0.2/leaflet.awesome-markers.js%22%3E%3C/script%3E%0A%20%20%20%20%3Clink%20rel%3D%22stylesheet%22%20href%3D%22https%3A//cdn.jsdelivr.net/npm/leaflet%401.6.0/dist/leaflet.css%22/%3E%0A%20%20%20%20%3Clink%20rel%3D%22stylesheet%22%20href%3D%22https%3A//maxcdn.bootstrapcdn.com/bootstrap/3.2.0/css/bootstrap.min.css%22/%3E%0A%20%20%20%20%3Clink%20rel%3D%22stylesheet%22%20href%3D%22https%3A//maxcdn.bootstrapcdn.com/bootstrap/3.2.0/css/bootstrap-theme.min.css%22/%3E%0A%20%20%20%20%3Clink%20rel%3D%22stylesheet%22%20href%3D%22https%3A//maxcdn.bootstrapcdn.com/font-awesome/4.6.3/css/font-awesome.min.css%22/%3E%0A%20%20%20%20%3Clink%20rel%3D%22stylesheet%22%20href%3D%22https%3A//cdnjs.cloudflare.com/ajax/libs/Leaflet.awesome-markers/2.0.2/leaflet.awesome-markers.css%22/%3E%0A%20%20%20%20%3Clink%20rel%3D%22stylesheet%22%20href%3D%22https%3A//cdn.jsdelivr.net/gh/python-visualization/folium/folium/templates/leaflet.awesome.rotate.min.css%22/%3E%0A%20%20%20%20%0A%20%20%20%20%20%20%20%20%20%20%20%20%3Cmeta%20name%3D%22viewport%22%20content%3D%22width%3Ddevice-width%2C%0A%20%20%20%20%20%20%20%20%20%20%20%20%20%20%20%20initial-scale%3D1.0%2C%20maximum-scale%3D1.0%2C%20user-scalable%3Dno%22%20/%3E%0A%20%20%20%20%20%20%20%20%20%20%20%20%3Cstyle%3E%0A%20%20%20%20%20%20%20%20%20%20%20%20%20%20%20%20%23map_7aa120d3b0384790baa4bfd225e0775f%20%7B%0A%20%20%20%20%20%20%20%20%20%20%20%20%20%20%20%20%20%20%20%20position%3A%20relative%3B%0A%20%20%20%20%20%20%20%20%20%20%20%20%20%20%20%20%20%20%20%20width%3A%20100.0%25%3B%0A%20%20%20%20%20%20%20%20%20%20%20%20%20%20%20%20%20%20%20%20height%3A%20100.0%25%3B%0A%20%20%20%20%20%20%20%20%20%20%20%20%20%20%20%20%20%20%20%20left%3A%200.0%25%3B%0A%20%20%20%20%20%20%20%20%20%20%20%20%20%20%20%20%20%20%20%20top%3A%200.0%25%3B%0A%20%20%20%20%20%20%20%20%20%20%20%20%20%20%20%20%7D%0A%20%20%20%20%20%20%20%20%20%20%20%20%3C/style%3E%0A%20%20%20%20%20%20%20%20%0A%3C/head%3E%0A%3Cbody%3E%20%20%20%20%0A%20%20%20%20%0A%20%20%20%20%20%20%20%20%20%20%20%20%3Cdiv%20class%3D%22folium-map%22%20id%3D%22map_7aa120d3b0384790baa4bfd225e0775f%22%20%3E%3C/div%3E%0A%20%20%20%20%20%20%20%20%0A%3C/body%3E%0A%3Cscript%3E%20%20%20%20%0A%20%20%20%20%0A%20%20%20%20%20%20%20%20%20%20%20%20var%20map_7aa120d3b0384790baa4bfd225e0775f%20%3D%20L.map%28%0A%20%20%20%20%20%20%20%20%20%20%20%20%20%20%20%20%22map_7aa120d3b0384790baa4bfd225e0775f%22%2C%0A%20%20%20%20%20%20%20%20%20%20%20%20%20%20%20%20%7B%0A%20%20%20%20%20%20%20%20%20%20%20%20%20%20%20%20%20%20%20%20center%3A%20%5B37.5505938572%2C%20127.074236903%5D%2C%0A%20%20%20%20%20%20%20%20%20%20%20%20%20%20%20%20%20%20%20%20crs%3A%20L.CRS.EPSG3857%2C%0A%20%20%20%20%20%20%20%20%20%20%20%20%20%20%20%20%20%20%20%20zoom%3A%20100%2C%0A%20%20%20%20%20%20%20%20%20%20%20%20%20%20%20%20%20%20%20%20zoomControl%3A%20true%2C%0A%20%20%20%20%20%20%20%20%20%20%20%20%20%20%20%20%20%20%20%20preferCanvas%3A%20false%2C%0A%20%20%20%20%20%20%20%20%20%20%20%20%20%20%20%20%7D%0A%20%20%20%20%20%20%20%20%20%20%20%20%29%3B%0A%0A%20%20%20%20%20%20%20%20%20%20%20%20%0A%0A%20%20%20%20%20%20%20%20%0A%20%20%20%20%0A%20%20%20%20%20%20%20%20%20%20%20%20var%20tile_layer_7a2d8454fbba4e439f1a6edf697f8a86%20%3D%20L.tileLayer%28%0A%20%20%20%20%20%20%20%20%20%20%20%20%20%20%20%20%22https%3A//%7Bs%7D.tile.openstreetmap.org/%7Bz%7D/%7Bx%7D/%7By%7D.png%22%2C%0A%20%20%20%20%20%20%20%20%20%20%20%20%20%20%20%20%7B%22attribution%22%3A%20%22Data%20by%20%5Cu0026copy%3B%20%5Cu003ca%20href%3D%5C%22http%3A//openstreetmap.org%5C%22%5Cu003eOpenStreetMap%5Cu003c/a%5Cu003e%2C%20under%20%5Cu003ca%20href%3D%5C%22http%3A//www.openstreetmap.org/copyright%5C%22%5Cu003eODbL%5Cu003c/a%5Cu003e.%22%2C%20%22detectRetina%22%3A%20false%2C%20%22maxNativeZoom%22%3A%2018%2C%20%22maxZoom%22%3A%2018%2C%20%22minZoom%22%3A%200%2C%20%22noWrap%22%3A%20false%2C%20%22opacity%22%3A%201%2C%20%22subdomains%22%3A%20%22abc%22%2C%20%22tms%22%3A%20false%7D%0A%20%20%20%20%20%20%20%20%20%20%20%20%29.addTo%28map_7aa120d3b0384790baa4bfd225e0775f%29%3B%0A%20%20%20%20%20%20%20%20%0A%20%20%20%20%0A%20%20%20%20%20%20%20%20%20%20%20%20var%20poly_line_f7733db0812948b8acd8f3434872f68c%20%3D%20L.polyline%28%0A%20%20%20%20%20%20%20%20%20%20%20%20%20%20%20%20%5B%5B37.55067%2C%20127.07526333333333%5D%2C%20%5B37.550775%2C%20127.07548%5D%2C%20%5B37.550775%2C%20127.07548%5D%2C%20%5B37.55070333333333%2C%20127.07540166666668%5D%2C%20%5B37.55070333333333%2C%20127.07540166666668%5D%2C%20%5B37.55067%2C%20127.07542666666669%5D%2C%20%5B37.55067%2C%20127.07542666666669%5D%2C%20%5B37.55046%2C%20127.07561%5D%2C%20%5B37.550518333333336%2C%20127.07536166666665%5D%2C%20%5B37.550518333333336%2C%20127.07536166666665%5D%2C%20%5B37.55066%2C%20127.07538833333335%5D%2C%20%5B37.55066%2C%20127.07538833333335%5D%2C%20%5B37.550691666666665%2C%20127.07527499999999%5D%2C%20%5B37.550745%2C%20127.07527499999999%5D%2C%20%5B37.550801666666665%2C%20127.07531499999999%5D%2C%20%5B37.550801666666665%2C%20127.07531499999999%5D%2C%20%5B37.551138333333334%2C%20127.07568166666667%5D%2C%20%5B37.55113666666667%2C%20127.07562166666666%5D%2C%20%5B37.55110166666667%2C%20127.07563166666665%5D%2C%20%5B37.551185000000004%2C%20127.07564833333332%5D%2C%20%5B37.55110166666667%2C%20127.07570833333332%5D%2C%20%5B37.551026666666665%2C%20127.07569%5D%2C%20%5B37.551021666666664%2C%20127.07563%5D%2C%20%5B37.551006666666666%2C%20127.07560333333335%5D%2C%20%5B37.55114833333334%2C%20127.07556000000001%5D%2C%20%5B37.55102333333333%2C%20127.07586333333332%5D%2C%20%5B37.55108%2C%20127.076%5D%2C%20%5B37.55106%2C%20127.07588833333332%5D%2C%20%5B37.551003333333334%2C%20127.07580833333334%5D%2C%20%5B37.551111666666664%2C%20127.0757%5D%2C%20%5B37.55122166666667%2C%20127.07583833333335%5D%2C%20%5B37.55090666666667%2C%20127.07563333333334%5D%2C%20%5B37.551028333333335%2C%20127.07586833333335%5D%2C%20%5B37.55111%2C%20127.07590499999999%5D%2C%20%5B37.55103166666667%2C%20127.07591166666667%5D%2C%20%5B37.551028333333335%2C%20127.07578666666669%5D%2C%20%5B37.55084%2C%20127.07582499999998%5D%2C%20%5B37.55081666666667%2C%20127.07586666666666%5D%2C%20%5B37.550650000000005%2C%20127.07567166666668%5D%2C%20%5B37.550140000000006%2C%20127.07593333333334%5D%2C%20%5B37.55134333333333%2C%20127.07559%5D%2C%20%5B37.55117833333334%2C%20127.07566%5D%2C%20%5B37.551163333333335%2C%20127.07560166666666%5D%2C%20%5B37.551163333333335%2C%20127.075515%5D%2C%20%5B37.551163333333335%2C%20127.075515%5D%2C%20%5B37.550778333333334%2C%20127.07545166666665%5D%2C%20%5B37.55073166666667%2C%20127.07552666666668%5D%2C%20%5B37.55110833333333%2C%20127.07560333333335%5D%2C%20%5B37.55094833333333%2C%20127.07562333333333%5D%2C%20%5B37.55094833333333%2C%20127.07562333333333%5D%2C%20%5B37.550958333333334%2C%20127.07557333333334%5D%2C%20%5B37.55083333333334%2C%20127.075505%5D%2C%20%5B37.550828333333335%2C%20127.07549666666667%5D%2C%20%5B37.550828333333335%2C%20127.07547833333335%5D%2C%20%5B37.55130666666666%2C%20127.075755%5D%2C%20%5B37.551338333333334%2C%20127.07568500000001%5D%2C%20%5B37.55137666666667%2C%20127.07567499999999%5D%2C%20%5B37.551248333333334%2C%20127.07566%5D%2C%20%5B37.551155%2C%20127.07570499999999%5D%2C%20%5B37.551051666666666%2C%20127.07563833333333%5D%2C%20%5B37.55104333333334%2C%20127.07566%5D%2C%20%5B37.5511%2C%20127.07557999999999%5D%2C%20%5B37.55079166666667%2C%20127.07552833333332%5D%2C%20%5B37.550975%2C%20127.07562666666666%5D%2C%20%5B37.55090833333334%2C%20127.07549333333333%5D%2C%20%5B37.55061333333333%2C%20127.07554999999999%5D%2C%20%5B37.55061333333333%2C%20127.07554999999999%5D%2C%20%5B37.55246666666667%2C%20127.07596666666669%5D%2C%20%5B37.55246666666667%2C%20127.07596666666669%5D%2C%20%5B37.55246666666667%2C%20127.07596666666669%5D%2C%20%5B37.55061333333333%2C%20127.07554999999999%5D%2C%20%5B37.55246666666667%2C%20127.07596666666669%5D%2C%20%5B37.55105666666667%2C%20127.07574666666666%5D%2C%20%5B37.551053333333336%2C%20127.07554666666668%5D%2C%20%5B37.55101833333333%2C%20127.07545499999999%5D%2C%20%5B37.55137833333333%2C%20127.07538500000001%5D%2C%20%5B37.55133166666667%2C%20127.07538333333332%5D%2C%20%5B37.55119666666667%2C%20127.07531166666668%5D%2C%20%5B37.55088833333333%2C%20127.07539%5D%2C%20%5B37.55117499999999%2C%20127.0757%5D%2C%20%5B37.55163666666667%2C%20127.07578666666669%5D%2C%20%5B37.55158666666667%2C%20127.07569%5D%2C%20%5B37.551500000000004%2C%20127.07552666666668%5D%2C%20%5B37.550785%2C%20127.07545333333334%5D%2C%20%5B37.550785%2C%20127.07545333333334%5D%2C%20%5B37.550785%2C%20127.07545333333334%5D%2C%20%5B37.55182%2C%20127.07539999999999%5D%2C%20%5B37.55187333333333%2C%20127.07547833333335%5D%2C%20%5B37.55192833333333%2C%20127.07615166666668%5D%2C%20%5B37.551925%2C%20127.07626%5D%2C%20%5B37.551925%2C%20127.07626%5D%2C%20%5B37.551925%2C%20127.07626%5D%2C%20%5B37.551354999999994%2C%20127.07527999999999%5D%2C%20%5B37.55137%2C%20127.07536166666665%5D%2C%20%5B37.55143333333333%2C%20127.07556500000001%5D%2C%20%5B37.55153166666666%2C%20127.07503333333334%5D%2C%20%5B37.551525%2C%20127.07505333333332%5D%2C%20%5B37.551525%2C%20127.07505333333332%5D%2C%20%5B37.551605%2C%20127.07511000000001%5D%2C%20%5B37.551605%2C%20127.07511000000001%5D%2C%20%5B37.551605%2C%20127.07511000000001%5D%2C%20%5B37.551605%2C%20127.07511000000001%5D%2C%20%5B37.5348026%2C%20127.0683742%5D%5D%2C%0A%20%20%20%20%20%20%20%20%20%20%20%20%20%20%20%20%7B%22bubblingMouseEvents%22%3A%20true%2C%20%22color%22%3A%20%22red%22%2C%20%22dashArray%22%3A%20null%2C%20%22dashOffset%22%3A%20null%2C%20%22fill%22%3A%20false%2C%20%22fillColor%22%3A%20%22red%22%2C%20%22fillOpacity%22%3A%200.2%2C%20%22fillRule%22%3A%20%22evenodd%22%2C%20%22lineCap%22%3A%20%22round%22%2C%20%22lineJoin%22%3A%20%22round%22%2C%20%22noClip%22%3A%20false%2C%20%22opacity%22%3A%201.0%2C%20%22smoothFactor%22%3A%201.0%2C%20%22stroke%22%3A%20true%2C%20%22weight%22%3A%203%7D%0A%20%20%20%20%20%20%20%20%20%20%20%20%29.addTo%28map_7aa120d3b0384790baa4bfd225e0775f%29%3B%0A%20%20%20%20%20%20%20%20%0A%20%20%20%20%0A%20%20%20%20%20%20%20%20%20%20%20%20poly_line_f7733db0812948b8acd8f3434872f68c.bindTooltip%28%0A%20%20%20%20%20%20%20%20%20%20%20%20%20%20%20%20%60%3Cdiv%3E%0A%20%20%20%20%20%20%20%20%20%20%20%20%20%20%20%20%20%20%20%20%20Polyline%0A%20%20%20%20%20%20%20%20%20%20%20%20%20%20%20%20%20%3C/div%3E%60%2C%0A%20%20%20%20%20%20%20%20%20%20%20%20%20%20%20%20%7B%22sticky%22%3A%20true%7D%0A%20%20%20%20%20%20%20%20%20%20%20%20%29%3B%0A%20%20%20%20%20%20%20%20%0A%20%20%20%20%0A%20%20%20%20%20%20%20%20%20%20%20%20var%20poly_line_5bdee959ff614a1e9f708a03797f8b5c%20%3D%20L.polyline%28%0A%20%20%20%20%20%20%20%20%20%20%20%20%20%20%20%20%5B%5B37.55074%2C%20127.07540777777778%5D%2C%20%5B37.55075111111111%2C%20127.07545388888889%5D%2C%20%5B37.55071611111111%2C%20127.07543611111112%5D%2C%20%5B37.55063055555556%2C%20127.07539666666668%5D%2C%20%5B37.55061611111111%2C%20127.07539222222222%5D%2C%20%5B37.550623333333334%2C%20127.07534166666666%5D%2C%20%5B37.55071777777778%2C%20127.07532611111111%5D%2C%20%5B37.550877222222226%2C%20127.07542388888889%5D%2C%20%5B37.55101388888889%2C%20127.07554277777778%5D%2C%20%5B37.551113888888885%2C%20127.07567388888889%5D%2C%20%5B37.551075%2C%20127.07565666666666%5D%2C%20%5B37.55109055555556%2C%20127.07563277777778%5D%2C%20%5B37.55108333333333%2C%20127.07573000000001%5D%2C%20%5B37.551077222222226%2C%20127.07578944444445%5D%2C%20%5B37.55110166666666%2C%20127.07588222222223%5D%2C%20%5B37.55108444444445%2C%20127.07583833333335%5D%2C%20%5B37.551093888888886%2C%20127.0758727777778%5D%2C%20%5B37.55096666666666%2C%20127.07586833333335%5D%2C%20%5B37.55084055555556%2C%20127.07580277777777%5D%2C%20%5B37.55094444444445%2C%20127.07569555555555%5D%2C%20%5B37.55105222222222%2C%20127.07562111111112%5D%2C%20%5B37.55122333333333%2C%20127.07556888888888%5D%2C%20%5B37.55101944444445%2C%20127.07554777777779%5D%2C%20%5B37.550947777777786%2C%20127.07555500000001%5D%2C%20%5B37.55087944444444%2C%20127.07557444444444%5D%2C%20%5B37.55091166666667%2C%20127.07556444444445%5D%2C%20%5B37.55103111111111%2C%20127.07560833333334%5D%2C%20%5B37.55117055555556%2C%20127.07564222222221%5D%2C%20%5B37.55127944444445%2C%20127.07571166666666%5D%2C%20%5B37.55119166666667%2C%20127.07567999999999%5D%2C%20%5B37.55099666666667%2C%20127.07563111111112%5D%2C%20%5B37.55091444444445%2C%20127.07556055555555%5D%2C%20%5B37.55077111111111%2C%20127.07552388888888%5D%2C%20%5B37.55132944444444%2C%20127.07567%5D%2C%20%5B37.551231111111115%2C%20127.0756888888889%5D%2C%20%5B37.55137888888889%2C%20127.07575444444444%5D%2C%20%5B37.55089611111111%2C%20127.07558388888889%5D%2C%20%5B37.551135555555554%2C%20127.07552833333334%5D%2C%20%5B37.55107944444445%2C%20127.07540944444445%5D%2C%20%5B37.55128555555556%2C%20127.07552%5D%2C%20%5B37.551341666666666%2C%20127.07556777777779%5D%2C%20%5B37.55130722222222%2C%20127.07558888888889%5D%2C%20%5B37.55136833333333%2C%20127.07546%5D%2C%20%5B37.551511111111104%2C%20127.07566833333333%5D%2C%20%5B37.55189111111111%2C%20127.07593722222221%5D%2C%20%5B37.551736111111104%2C%20127.07589722222224%5D%2C%20%5B37.55157111111111%2C%20127.07570166666669%5D%2C%20%5B37.55143777777777%2C%20127.07529944444444%5D%2C%20%5B37.55152111111111%2C%20127.07524277777777%5D%2C%20%5B37.55157833333333%2C%20127.07509111111112%5D%5D%2C%0A%20%20%20%20%20%20%20%20%20%20%20%20%20%20%20%20%7B%22bubblingMouseEvents%22%3A%20true%2C%20%22color%22%3A%20%22blue%22%2C%20%22dashArray%22%3A%20null%2C%20%22dashOffset%22%3A%20null%2C%20%22fill%22%3A%20false%2C%20%22fillColor%22%3A%20%22blue%22%2C%20%22fillOpacity%22%3A%200.2%2C%20%22fillRule%22%3A%20%22evenodd%22%2C%20%22lineCap%22%3A%20%22round%22%2C%20%22lineJoin%22%3A%20%22round%22%2C%20%22noClip%22%3A%20false%2C%20%22opacity%22%3A%201.0%2C%20%22smoothFactor%22%3A%201.0%2C%20%22stroke%22%3A%20true%2C%20%22weight%22%3A%203%7D%0A%20%20%20%20%20%20%20%20%20%20%20%20%29.addTo%28map_7aa120d3b0384790baa4bfd225e0775f%29%3B%0A%20%20%20%20%20%20%20%20%0A%20%20%20%20%0A%20%20%20%20%20%20%20%20%20%20%20%20poly_line_5bdee959ff614a1e9f708a03797f8b5c.bindTooltip%28%0A%20%20%20%20%20%20%20%20%20%20%20%20%20%20%20%20%60%3Cdiv%3E%0A%20%20%20%20%20%20%20%20%20%20%20%20%20%20%20%20%20%20%20%20%20Polyline%0A%20%20%20%20%20%20%20%20%20%20%20%20%20%20%20%20%20%3C/div%3E%60%2C%0A%20%20%20%20%20%20%20%20%20%20%20%20%20%20%20%20%7B%22sticky%22%3A%20true%7D%0A%20%20%20%20%20%20%20%20%20%20%20%20%29%3B%0A%20%20%20%20%20%20%20%20%0A%3C/script%3E onload=\"this.contentDocument.open();this.contentDocument.write(    decodeURIComponent(this.getAttribute('data-html')));this.contentDocument.close();\" allowfullscreen webkitallowfullscreen mozallowfullscreen></iframe></div></div>"
      ],
      "text/plain": [
       "<folium.folium.Map at 0x1b3ac722220>"
      ]
     },
     "execution_count": 93,
     "metadata": {},
     "output_type": "execute_result"
    }
   ],
   "source": [
    "#GPS FIllering by Clustering + PreFilter by speed vector\n",
    "filtering_map = folium.Map(location = [37.5505938572,127.074236903], zoom_start =100) # 세종대학교 중심 조사\n",
    "Mass_cluster_list = [] #clustering list\n",
    "speed_vector_list = []\n",
    "raw_list = []\n",
    "norm_list = []\n",
    "clustering_size = 3 #(minute)\n",
    "res_list = [] # result list\n",
    "ERROR_WEIGHT = 5\n",
    "######################################################################\n",
    "\n",
    "for count in test_df.index.values[120:223]:\n",
    "    marker_point_lati = float(test_df.loc[count,'latitude'])\n",
    "    marker_point_long = float(test_df.loc[count,'longitude'])\n",
    "    marker_point = [marker_point_lati, marker_point_long]\n",
    "    raw_list.append(marker_point)\n",
    "    # 전처리 과정\n",
    "\n",
    "\n",
    "    if len(Mass_cluster_list) < clustering_size: # cluster_list isnot full\n",
    "        Mass_cluster_list.append(marker_point)\n",
    "            # gps_dis = haversine(, ) * 1000 #(m) \n",
    "   \n",
    "    else: # cluster_list full\n",
    "        sum_point_x = 0\n",
    "        sum_point_y = 0\n",
    "        for idx in range(0,clustering_size):\n",
    "            sum_point_x += Mass_cluster_list[idx][0]\n",
    "            sum_point_y += Mass_cluster_list[idx][1]\n",
    "        mass_point = [sum_point_x/clustering_size, sum_point_y/clustering_size]\n",
    "        res_list.append(mass_point)\n",
    "        Mass_cluster_list.pop(0)\n",
    "\n",
    "    if len(res_list) > 1:\n",
    "        speed_vector_x = res_list[len(res_list)-1][0] - res_list[len(res_list)-2][0]\n",
    "        speed_vector_y = res_list[len(res_list)-1][1] - res_list[len(res_list)-2][1]\n",
    "        speed_vector = [speed_vector_x, speed_vector_y]\n",
    "        speed_vector_list.append(speed_vector)\n",
    "\n",
    "        current_vec_norm = math.sqrt(math.pow(speed_vector_x,2)+math.pow(speed_vector_y,2))\n",
    "        norm_list.append(current_vec_norm)\n",
    "\n",
    "    #prefilter\n",
    "    if len(speed_vector_list) > 1:\n",
    "        previous_vec_norm = math.sqrt(math.pow(speed_vector_list[len(speed_vector_list)-2][0],2)+math.pow(speed_vector_list[len(speed_vector_list)-2][1],2))\n",
    "        if current_vec_norm >= ERROR_WEIGHT * previous_vec_norm:\n",
    "            print(\"Error point : \",count)\n",
    "\n",
    "\n",
    "# print(res_list)\n",
    "folium.PolyLine(locations=raw_list,tooltip='Polyline', color='red').add_to(filtering_map)\n",
    "folium.PolyLine(locations=res_list,tooltip='Polyline', color='blue').add_to(filtering_map) # draw line\n",
    "# print(speed_vector_list)\n",
    "\n",
    "# for index in range(0, len(res_list)):\n",
    "#     folium.PolyLine(locations=res_list[index],tooltip='Polyline', color=line_color_list[index]).add_to(Centriod_map)\n",
    "\n",
    "filtering_map  "
   ]
  },
  {
   "cell_type": "code",
   "execution_count": null,
   "id": "b48bdc3d",
   "metadata": {},
   "outputs": [
    {
     "data": {
      "image/png": "[encoded data removed]",
      "text/plain": [
       "<Figure size 432x288 with 1 Axes>"
      ]
     },
     "metadata": {
      "needs_background": "light"
     },
     "output_type": "display_data"
    }
   ],
   "source": [
    "import matplotlib.pyplot as plt\n",
    "x_list = []\n",
    "y_list = []\n",
    "result = []\n",
    "for idx in range(0,len(speed_vector_list)):\n",
    "    x_list.append(speed_vector_list[idx][0])\n",
    "    y_list.append(speed_vector_list[idx][1])\n",
    "result = [x_list,y_list]\n",
    "plt.plot(x_list,y_list)\n",
    "plt.show()"
   ]
  },
  {
   "cell_type": "code",
   "execution_count": 94,
   "id": "ded47ad3",
   "metadata": {},
   "outputs": [
    {
     "data": {
      "image/png": "[encoded data removed]",
      "text/plain": [
       "<Figure size 432x288 with 1 Axes>"
      ]
     },
     "metadata": {
      "needs_background": "light"
     },
     "output_type": "display_data"
    }
   ],
   "source": [
    "xn_list = []\n",
    "yn_list = []\n",
    "import matplotlib.pyplot as plt\n",
    "\n",
    "for i in range(0,len(speed_vector_list)):\n",
    "    if i == 0:\n",
    "        xn_list.append(speed_vector_list[i][0])\n",
    "        yn_list.append(speed_vector_list[i][1])\n",
    "        \n",
    "    else:\n",
    "        xn_data = speed_vector_list[i][0] + xn_list[i-1]\n",
    "        yn_data = speed_vector_list[i][1] + yn_list[i-1]\n",
    "        xn_list.append(xn_data)\n",
    "        yn_list.append(yn_data)\n",
    "\n",
    "plt.plot(xn_list,yn_list,'ro')\n",
    "plt.show()"
   ]
  },
  {
   "cell_type": "code",
   "execution_count": null,
   "id": "c4f4abf8",
   "metadata": {},
   "outputs": [
    {
     "data": {
      "image/png": "[encoded data removed]",
      "text/plain": [
       "<Figure size 432x288 with 1 Axes>"
      ]
     },
     "metadata": {
      "needs_background": "light"
     },
     "output_type": "display_data"
    }
   ],
   "source": [
    "plt.plot(norm_list, 'ro')\n",
    "plt.show()"
   ]
  },
  {
   "cell_type": "code",
   "execution_count": 95,
   "id": "f0e5efce",
   "metadata": {},
   "outputs": [],
   "source": [
    "#GPS FIllering by Clustering for weight_centroid Filter\n",
    "def weight_centroid_Filter():\n",
    "    weight_centroid_map = folium.Map(location = [37.5505938572,127.074236903], zoom_start =100) # 세종대학교 중심 조사\n",
    "    weight_centroid_cluster_list = [] #clustering list\n",
    "    clustering_size = 10\n",
    "    res_list = []\n",
    "    Depth_Level = 2 # must even constant\n",
    "        \n",
    "    weight_centroid_point_list = [] # filtering point list\n",
    "    ######################################################################\n",
    "\n",
    "    for count in test_df.index.values[120:131]:\n",
    "        marker_point_lati = float(merge_df.loc[count,'latitude'])\n",
    "        marker_point_long = float(merge_df.loc[count,'longitude'])\n",
    "        if merge_df.loc[count,'SATELLITE COUNT'] == np.nan : #위성정보가 오류로 수집이 안되었을 경우 0으로 처리\n",
    "            marker_point_count = 0 # weight\n",
    "        else:\n",
    "            marker_point_count = int(merge_df.loc[count,'SATELLITE COUNT']) # weight\n",
    "        marker_point = [marker_point_lati, marker_point_long, marker_point_count]\n",
    "        \n",
    "        if len(weight_centroid_cluster_list) != clustering_size: # cluster_list isnot full\n",
    "            weight_centroid_cluster_list.append(marker_point)\n",
    "            continue\n",
    "    \n",
    "        else : # cluster_list full\n",
    "            while True:\n",
    "                res_list.append(weight_centroid_cluster_list) # depth별 list\n",
    "                if len(weight_centroid_cluster_list) == Depth_Level:\n",
    "                    for index in range(0, len(res_list)): # 지도에 표시하기 위해 list에서 weight 제거 작업\n",
    "                        for count in range(0, len(res_list[index])):\n",
    "                            res_list[index][count] = res_list[index][count][:2]\n",
    "                    break\n",
    "                for point in range(0, len(weight_centroid_cluster_list)-2): # Depth Level 1\n",
    "                    current_point = weight_centroid_cluster_list[point]\n",
    "                    second_point = weight_centroid_cluster_list[point+1]\n",
    "                    third_point = weight_centroid_cluster_list[point+2]\n",
    "                    \n",
    "                    weight_centroid_point_x = (current_point[2]*current_point[0] + second_point[2]*second_point[0] + third_point[2]*third_point[0])/(current_point[2]+second_point[2]+third_point[2]) #기존 내분점 공식을 그대로 적용하면 x, 변형 필요\n",
    "                    weight_centroid_point_y = (current_point[2]*current_point[1] + second_point[2]*second_point[1] + third_point[2]*third_point[1])/(current_point[2]+second_point[2]+third_point[2])\n",
    "                    weight_centroid_point_count = current_point[2] + second_point[2] + third_point[2]\n",
    "                    weight_centroid_point = [weight_centroid_point_x, weight_centroid_point_y, weight_centroid_point_count]\n",
    "\n",
    "                    weight_centroid_point_list.append(weight_centroid_point)\n",
    "                weight_centroid_cluster_list = weight_centroid_point_list\n",
    "                weight_centroid_point_list =[] # weight_centroid_point_list clear\n",
    "\n",
    "    # folium.PolyLine(locations=weight_centroid_cluster_list,tooltip='Polyline', color='blue').add_to(weight_centroid_map) # draw line\n",
    "    for index in range(0, len(res_list)):\n",
    "        folium.PolyLine(locations=res_list[index],tooltip='Polyline', color=line_color_list[index]).add_to(weight_centroid_map)\n",
    "\n",
    "    # weight_centroid_map  \n"
   ]
  },
  {
   "cell_type": "code",
   "execution_count": null,
   "id": "2383e356",
   "metadata": {},
   "outputs": [],
   "source": []
  }
 ],
 "metadata": {
  "kernelspec": {
   "display_name": "Python 3 (ipykernel)",
   "language": "python",
   "name": "python3"
  },
  "language_info": {
   "codemirror_mode": {
    "name": "ipython",
    "version": 3
   },
   "file_extension": ".py",
   "mimetype": "text/x-python",
   "name": "python",
   "nbconvert_exporter": "python",
   "pygments_lexer": "ipython3",
   "version": "3.8.5"
  }
 },
 "nbformat": 4,
 "nbformat_minor": 5
}
