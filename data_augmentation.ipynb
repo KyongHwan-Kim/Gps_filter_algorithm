{
 "cells": [
  {
   "cell_type": "code",
   "execution_count": 40,
   "metadata": {},
   "outputs": [],
   "source": [
    "import pandas as pd\n",
    "import numpy as np\n",
    "from csv import reader\n",
    "from numpy import linalg as la\n",
    "from sys import exit\n",
    "from haversine import haversine\n",
    "import math\n",
    "from operator import itemgetter\n",
    "from numpy import dot\n",
    "from numpy.linalg import norm\n",
    "#시각화 도구\n",
    "import folium\n",
    "from folium.features import DivIcon\n",
    "import random\n",
    "import matplotlib.pyplot as plt\n",
    "from shutil import copyfile\n",
    "import os\n",
    "import random\n",
    "# 전역 변수 설정\n",
    "FILE_SAVE_DIR = './Data_set_0826/' #있다면 추가 해주기 (상대경로)\n",
    "line_color_list = ['red', 'blue', 'green', 'purple', 'orange', 'darkred',\n",
    "                    'lightred', 'beige', 'darkblue', 'darkgreen', 'cadetblue', 'darkpurple', 'white',\n",
    "                    'pink', 'lightblue', 'lightgreen', 'gray', 'black', 'lightgray'] \n",
    "# Global Variable Setting\n",
    "\n",
    "# Nicname = '5CAC8432AE4EC54B'\n",
    "# Huzzi = '44754E5A077F32B4'\n",
    "# oizi = '2DDB3706DE4F7B45'\n",
    "kyounghwan = '3963650B38CAF112'\n",
    "hyeryeong = '4CCF4C0B0F953026'\n",
    "pyeongju = '8A57AE95DD4629A7'\n",
    "joongho = '9E7F4CB4F4A6A6D4'\n",
    "yujin = 'F9888CC2D3053565'\n",
    "member_list = ['3963650B38CAF112','4CCF4C0B0F953026','8A57AE95DD4629A7','9E7F4CB4F4A6A6D4','F9888CC2D3053565']\n",
    "PATIENT_UID = kyounghwan # 감염자 UID\n",
    "TARGET_UID =  hyeryeong # 조사 대상자 UID\n",
    "\n",
    "# Map Setting\n",
    "Raw_map = folium.Map(location = [37.5505938572,127.074236903], zoom_start =100) # 세종대학교 중심 조사\n",
    "Filter_map = folium.Map(location = [37.5505938572,127.074236903], zoom_start =100) # 세종대학교 중심 조사\n",
    "mass_map = folium.Map(location = [37.5505938572,127.074236903], zoom_start =100) # 세종대학교 중심 조사\n",
    "compare_map = folium.Map(location = [37.5505938572,127.074236903], zoom_start =100) # 세종대학교 중심 조사\n",
    "\n",
    "# dirCnt = 10\n",
    "# for dir in range(dirCnt):\n",
    "#     os.makedirs('./noise_injection/'+str(dir))\n",
    "#     for member in member_list:\n",
    "#         copyfile(FILE_SAVE_DIR + member +\"_gps\"+\".csv\",'./noise_injection/'+str(dir)+'/'+ member +\"_gps\"+\".csv\")\n",
    "def load_GPS_set(UID, scnario, file_path): # Data load\n",
    "    try:\n",
    "        if scnario == 1:\n",
    "            data_set = pd.read_csv(file_path + UID +\"_gps\"+\".csv\", sep=\",\", dtype='unicode')\n",
    "            data_set['TIME STAMP'] = pd.to_datetime(data_set['loggingTime']).dt.strftime('%Y-%m-%d %H:%M:%s')\n",
    "            is_scnario = data_set['scinario'] == '1'\n",
    "            data_set = data_set[is_scnario]\n",
    "            re_data_set = data_set[[\"TIME STAMP\",\"uid\",\"latitude\",\"longitude\",\"provider\"]]\n",
    "            return re_data_set\n",
    "        elif scnario == 2:\n",
    "            data_set = pd.read_csv(file_path + UID +\"_gps\"+\".csv\", sep=\",\", dtype='unicode')\n",
    "            data_set['TIME STAMP'] = pd.to_datetime(data_set['loggingTime']).dt.strftime('%Y-%m-%d %H:%M:%s')\n",
    "            is_scnario = data_set['scinario'] == '2'\n",
    "            data_set = data_set[is_scnario]\n",
    "            re_data_set = data_set[[\"TIME STAMP\",\"uid\",\"latitude\",\"longitude\",\"provider\"]]\n",
    "            re_data_set.reset_index(inplace=True, drop=True)\n",
    "            return re_data_set   \n",
    "    except FileNotFoundError as e:\n",
    "        pass\n"
   ]
  },
  {
   "cell_type": "code",
   "execution_count": 41,
   "metadata": {},
   "outputs": [
    {
     "data": {
      "text/plain": [
       "4.3678238324081286e-05"
      ]
     },
     "execution_count": 41,
     "metadata": {},
     "output_type": "execute_result"
    }
   ],
   "source": [
    "haversine([37.54758427,127.0735179],[37.54758927,127.0735679], unit = 'm') #0.00005 / 0.00005\n",
    "float(random.random()/10000)"
   ]
  },
  {
   "cell_type": "code",
   "execution_count": 42,
   "metadata": {},
   "outputs": [],
   "source": [
    "#Noise Injection - 위도 경도 0.0001 ~ 0.00001 렌덤 노이즈 부여 +-0.0001 => 10m +- 0.00001 => 1m\n",
    "dirCnt= 10\n",
    "for dir in range(dirCnt):\n",
    "    for member in member_list:\n",
    "        data_set = pd.read_csv('./noise_injection/'+str(dir)+ \"/\"+ member +\"_gps\"+\".csv\", sep=\",\", dtype='unicode')\n",
    "        data_set['TIME STAMP'] = pd.to_datetime(data_set['loggingTime']).dt.strftime('%Y-%m-%d %H:%M:%s')\n",
    "        for count in range(len(data_set.index)):\n",
    "            data_set.loc[count,'latitude'] = float(data_set.loc[count,'latitude']) +  random.uniform(-0.00005, 0.00005)\n",
    "            data_set.loc[count,'longitude'] = float(data_set.loc[count,'longitude']) +  random.uniform(0.00005, 0.00001)\n",
    "        data_set.to_csv('./noise_injection/'+str(dir)+ \"/\"+ member +\"_gps\"+\".csv\")"
   ]
  },
  {
   "cell_type": "code",
   "execution_count": null,
   "metadata": {},
   "outputs": [],
   "source": []
  },
  {
   "cell_type": "code",
   "execution_count": 43,
   "metadata": {},
   "outputs": [],
   "source": [
    "################### RAW DATA FUNC ######################\n",
    "def extract_raw_data(UID, scnario,file_path):\n",
    "    Dataframe = load_GPS_set(UID, scnario,file_path)\n",
    "    marker_list = []\n",
    "    for count in range(len(Dataframe.index)):\n",
    "        marker_point_lati = float(Dataframe.loc[count,'latitude'])\n",
    "        marker_point_long = float(Dataframe.loc[count,'longitude'])\n",
    "        marker_point_time = Dataframe.loc[count,'TIME STAMP']\n",
    "        marker_point = [marker_point_time, marker_point_lati, marker_point_long]\n",
    "        marker_list.append(marker_point)\n",
    "    return marker_list\n",
    "    \n",
    "kyounghwan_raw = extract_raw_data('3963650B38CAF112', 1, FILE_SAVE_DIR)\n",
    "kyounghwan_noise = extract_raw_data('3963650B38CAF112', 1, './noise_injection/0/')\n",
    "# hyeryeong_raw = extract_raw_data('4CCF4C0B0F953026', 1)\n",
    "# pyeongju_raw = extract_raw_data('8A57AE95DD4629A7', 1)\n",
    "# joongho_raw = extract_raw_data('9E7F4CB4F4A6A6D4', 1)\n",
    "# yujin_raw = extract_raw_data('F9888CC2D3053565', 1)\n"
   ]
  },
  {
   "cell_type": "code",
   "execution_count": null,
   "metadata": {},
   "outputs": [],
   "source": [
    "# Random Split Windows\n"
   ]
  },
  {
   "cell_type": "code",
   "execution_count": 44,
   "metadata": {},
   "outputs": [],
   "source": [
    "    \n",
    "################### ABOUT MAP DROWING FUNC #####################\n",
    "def draw_Polyline_map(map, marker_list, draw_color):\n",
    "    replace_list = []\n",
    "    for marker_point in marker_list:\n",
    "        replace_list.append(marker_point[1:3])\n",
    "    folium.PolyLine(locations=replace_list,tooltip='Polyline',color=draw_color).add_to(map)\n",
    "\n",
    "def draw_index_map(map, marker_list):\n",
    "    count = len(marker_list)\n",
    "    for marker_point in marker_list:\n",
    "        folium.Marker(marker_point[1:3], icon=DivIcon(icon_size=(10,3),icon_anchor=(7,20),\n",
    "        html='<div style=\"font-size: 10pt; color : black\">'+str(count)+'</div>',\n",
    "        )).add_to(map)\n",
    "        count = count - 1\n",
    "\n",
    "def draw_circle_map(map, marker_list,draw_radius,draw_color):\n",
    "    for marker_point in marker_list:\n",
    "        folium.CircleMarker(location=marker_point[1:3], radius=draw_radius, color= draw_color).add_to(map)\n",
    "        \n",
    "def draw_arrow_map(map, start_list, end_list, line_color, dot_color):\n",
    "    for start_point in start_list:\n",
    "        for end_point in end_list:\n",
    "            if(start_point[0]==end_point[0]):\n",
    "                try:\n",
    "                    rot_x = end_point[1] - start_point[1]\n",
    "                    rot_y = end_point[2] - start_point[2]\n",
    "                    rot = math.acos(haversine([start_point[1],0],[end_point[1],0])/haversine(start_point[1:3],end_point[1:3]))\n",
    "                    # folium.CircleMarker(location=end_point[1:3], radius=1, color= dot_color).add_to(map)\n",
    "                    folium.PolyLine(locations=[start_point[1:3],end_point[1:3]],tooltip='Polyline',color=line_color).add_to(map)\n",
    "                    folium.CircleMarker(location=start_point[1:3], radius=3, color= dot_color).add_to(map)\n",
    "                    folium.RegularPolygonMarker(end_point[1:3], fill_color='blue', number_of_sides=3, radius=3, rotation=rot).add_to(map)\n",
    "                except IndexError :\n",
    "                    break\n",
    "                except ZeroDivisionError:\n",
    "                    break\n",
    "                "
   ]
  },
  {
   "cell_type": "code",
   "execution_count": 45,
   "metadata": {},
   "outputs": [
    {
     "data": {
      "text/html": [
       "<div style=\"width:100%;\"><div style=\"position:relative;width:100%;height:0;padding-bottom:60%;\"><span style=\"color:#565656\">Make this Notebook Trusted to load map: File -> Trust Notebook</span><iframe src=\"about:blank\" style=\"position:absolute;width:100%;height:100%;left:0;top:0;border:none !important;\" data-html=%3C%21DOCTYPE%20html%3E%0A%3Chead%3E%20%20%20%20%0A%20%20%20%20%3Cmeta%20http-equiv%3D%22content-type%22%20content%3D%22text/html%3B%20charset%3DUTF-8%22%20/%3E%0A%20%20%20%20%0A%20%20%20%20%20%20%20%20%3Cscript%3E%0A%20%20%20%20%20%20%20%20%20%20%20%20L_NO_TOUCH%20%3D%20false%3B%0A%20%20%20%20%20%20%20%20%20%20%20%20L_DISABLE_3D%20%3D%20false%3B%0A%20%20%20%20%20%20%20%20%3C/script%3E%0A%20%20%20%20%0A%20%20%20%20%3Cstyle%3Ehtml%2C%20body%20%7Bwidth%3A%20100%25%3Bheight%3A%20100%25%3Bmargin%3A%200%3Bpadding%3A%200%3B%7D%3C/style%3E%0A%20%20%20%20%3Cstyle%3E%23map%20%7Bposition%3Aabsolute%3Btop%3A0%3Bbottom%3A0%3Bright%3A0%3Bleft%3A0%3B%7D%3C/style%3E%0A%20%20%20%20%3Cscript%20src%3D%22https%3A//cdn.jsdelivr.net/npm/leaflet%401.6.0/dist/leaflet.js%22%3E%3C/script%3E%0A%20%20%20%20%3Cscript%20src%3D%22https%3A//code.jquery.com/jquery-1.12.4.min.js%22%3E%3C/script%3E%0A%20%20%20%20%3Cscript%20src%3D%22https%3A//maxcdn.bootstrapcdn.com/bootstrap/3.2.0/js/bootstrap.min.js%22%3E%3C/script%3E%0A%20%20%20%20%3Cscript%20src%3D%22https%3A//cdnjs.cloudflare.com/ajax/libs/Leaflet.awesome-markers/2.0.2/leaflet.awesome-markers.js%22%3E%3C/script%3E%0A%20%20%20%20%3Clink%20rel%3D%22stylesheet%22%20href%3D%22https%3A//cdn.jsdelivr.net/npm/leaflet%401.6.0/dist/leaflet.css%22/%3E%0A%20%20%20%20%3Clink%20rel%3D%22stylesheet%22%20href%3D%22https%3A//maxcdn.bootstrapcdn.com/bootstrap/3.2.0/css/bootstrap.min.css%22/%3E%0A%20%20%20%20%3Clink%20rel%3D%22stylesheet%22%20href%3D%22https%3A//maxcdn.bootstrapcdn.com/bootstrap/3.2.0/css/bootstrap-theme.min.css%22/%3E%0A%20%20%20%20%3Clink%20rel%3D%22stylesheet%22%20href%3D%22https%3A//maxcdn.bootstrapcdn.com/font-awesome/4.6.3/css/font-awesome.min.css%22/%3E%0A%20%20%20%20%3Clink%20rel%3D%22stylesheet%22%20href%3D%22https%3A//cdnjs.cloudflare.com/ajax/libs/Leaflet.awesome-markers/2.0.2/leaflet.awesome-markers.css%22/%3E%0A%20%20%20%20%3Clink%20rel%3D%22stylesheet%22%20href%3D%22https%3A//cdn.jsdelivr.net/gh/python-visualization/folium/folium/templates/leaflet.awesome.rotate.min.css%22/%3E%0A%20%20%20%20%0A%20%20%20%20%20%20%20%20%20%20%20%20%3Cmeta%20name%3D%22viewport%22%20content%3D%22width%3Ddevice-width%2C%0A%20%20%20%20%20%20%20%20%20%20%20%20%20%20%20%20initial-scale%3D1.0%2C%20maximum-scale%3D1.0%2C%20user-scalable%3Dno%22%20/%3E%0A%20%20%20%20%20%20%20%20%20%20%20%20%3Cstyle%3E%0A%20%20%20%20%20%20%20%20%20%20%20%20%20%20%20%20%23map_f009e9eb130f4ebcadca21fbbd1cbf97%20%7B%0A%20%20%20%20%20%20%20%20%20%20%20%20%20%20%20%20%20%20%20%20position%3A%20relative%3B%0A%20%20%20%20%20%20%20%20%20%20%20%20%20%20%20%20%20%20%20%20width%3A%20100.0%25%3B%0A%20%20%20%20%20%20%20%20%20%20%20%20%20%20%20%20%20%20%20%20height%3A%20100.0%25%3B%0A%20%20%20%20%20%20%20%20%20%20%20%20%20%20%20%20%20%20%20%20left%3A%200.0%25%3B%0A%20%20%20%20%20%20%20%20%20%20%20%20%20%20%20%20%20%20%20%20top%3A%200.0%25%3B%0A%20%20%20%20%20%20%20%20%20%20%20%20%20%20%20%20%7D%0A%20%20%20%20%20%20%20%20%20%20%20%20%3C/style%3E%0A%20%20%20%20%20%20%20%20%0A%3C/head%3E%0A%3Cbody%3E%20%20%20%20%0A%20%20%20%20%0A%20%20%20%20%20%20%20%20%20%20%20%20%3Cdiv%20class%3D%22folium-map%22%20id%3D%22map_f009e9eb130f4ebcadca21fbbd1cbf97%22%20%3E%3C/div%3E%0A%20%20%20%20%20%20%20%20%0A%3C/body%3E%0A%3Cscript%3E%20%20%20%20%0A%20%20%20%20%0A%20%20%20%20%20%20%20%20%20%20%20%20var%20map_f009e9eb130f4ebcadca21fbbd1cbf97%20%3D%20L.map%28%0A%20%20%20%20%20%20%20%20%20%20%20%20%20%20%20%20%22map_f009e9eb130f4ebcadca21fbbd1cbf97%22%2C%0A%20%20%20%20%20%20%20%20%20%20%20%20%20%20%20%20%7B%0A%20%20%20%20%20%20%20%20%20%20%20%20%20%20%20%20%20%20%20%20center%3A%20%5B37.5505938572%2C%20127.074236903%5D%2C%0A%20%20%20%20%20%20%20%20%20%20%20%20%20%20%20%20%20%20%20%20crs%3A%20L.CRS.EPSG3857%2C%0A%20%20%20%20%20%20%20%20%20%20%20%20%20%20%20%20%20%20%20%20zoom%3A%20100%2C%0A%20%20%20%20%20%20%20%20%20%20%20%20%20%20%20%20%20%20%20%20zoomControl%3A%20true%2C%0A%20%20%20%20%20%20%20%20%20%20%20%20%20%20%20%20%20%20%20%20preferCanvas%3A%20false%2C%0A%20%20%20%20%20%20%20%20%20%20%20%20%20%20%20%20%7D%0A%20%20%20%20%20%20%20%20%20%20%20%20%29%3B%0A%0A%20%20%20%20%20%20%20%20%20%20%20%20%0A%0A%20%20%20%20%20%20%20%20%0A%20%20%20%20%0A%20%20%20%20%20%20%20%20%20%20%20%20var%20tile_layer_8ac49827687c47f181a4ce1eb23a36cf%20%3D%20L.tileLayer%28%0A%20%20%20%20%20%20%20%20%20%20%20%20%20%20%20%20%22https%3A//%7Bs%7D.tile.openstreetmap.org/%7Bz%7D/%7Bx%7D/%7By%7D.png%22%2C%0A%20%20%20%20%20%20%20%20%20%20%20%20%20%20%20%20%7B%22attribution%22%3A%20%22Data%20by%20%5Cu0026copy%3B%20%5Cu003ca%20href%3D%5C%22http%3A//openstreetmap.org%5C%22%5Cu003eOpenStreetMap%5Cu003c/a%5Cu003e%2C%20under%20%5Cu003ca%20href%3D%5C%22http%3A//www.openstreetmap.org/copyright%5C%22%5Cu003eODbL%5Cu003c/a%5Cu003e.%22%2C%20%22detectRetina%22%3A%20false%2C%20%22maxNativeZoom%22%3A%2018%2C%20%22maxZoom%22%3A%2018%2C%20%22minZoom%22%3A%200%2C%20%22noWrap%22%3A%20false%2C%20%22opacity%22%3A%201%2C%20%22subdomains%22%3A%20%22abc%22%2C%20%22tms%22%3A%20false%7D%0A%20%20%20%20%20%20%20%20%20%20%20%20%29.addTo%28map_f009e9eb130f4ebcadca21fbbd1cbf97%29%3B%0A%20%20%20%20%20%20%20%20%0A%20%20%20%20%0A%20%20%20%20%20%20%20%20%20%20%20%20var%20poly_line_e51e41ee38204e76b10140ad3ce9606d%20%3D%20L.polyline%28%0A%20%20%20%20%20%20%20%20%20%20%20%20%20%20%20%20%5B%5B37.54911375%2C%20127.0752075%5D%2C%20%5B37.54969183%2C%20127.0755161%5D%2C%20%5B37.54978818%2C%20127.0751482%5D%2C%20%5B37.55039156%2C%20127.0757831%5D%2C%20%5B37.55098969%2C%20127.0762375%5D%2C%20%5B37.55136547%2C%20127.075798%5D%2C%20%5B37.55171384%2C%20127.0752799%5D%2C%20%5B37.5534298%2C%20127.0731525%5D%2C%20%5B37.5531275%2C%20127.0726323%5D%2C%20%5B37.5530319%2C%20127.0725185%5D%2C%20%5B37.5527064%2C%20127.0719556%5D%2C%20%5B37.55277139%2C%20127.071848%5D%2C%20%5B37.55277139%2C%20127.071848%5D%2C%20%5B37.55277139%2C%20127.071848%5D%2C%20%5B37.55277139%2C%20127.071848%5D%2C%20%5B37.5524112%2C%20127.0714917%5D%2C%20%5B37.55201016%2C%20127.0713883%5D%2C%20%5B37.55199454%2C%20127.0716202%5D%2C%20%5B37.55191825%2C%20127.0713893%5D%2C%20%5B37.55191825%2C%20127.0713893%5D%2C%20%5B37.5518071%2C%20127.0709788%5D%2C%20%5B37.55111591%2C%20127.0711026%5D%2C%20%5B37.5479468%2C%20127.0719843%5D%2C%20%5B37.5479424%2C%20127.0725154%5D%2C%20%5B37.547475%2C%20127.0728832%5D%2C%20%5B37.54748619%2C%20127.0731928%5D%2C%20%5B37.54748619%2C%20127.0731928%5D%2C%20%5B37.54748619%2C%20127.0731928%5D%2C%20%5B37.54748619%2C%20127.0731928%5D%2C%20%5B37.54748619%2C%20127.0731928%5D%2C%20%5B37.54754416%2C%20127.0731978%5D%2C%20%5B37.548237%2C%20127.074703%5D%2C%20%5B37.548237%2C%20127.074703%5D%2C%20%5B37.54832287%2C%20127.0747889%5D%2C%20%5B37.54911587%2C%20127.0751413%5D%5D%2C%0A%20%20%20%20%20%20%20%20%20%20%20%20%20%20%20%20%7B%22bubblingMouseEvents%22%3A%20true%2C%20%22color%22%3A%20%22red%22%2C%20%22dashArray%22%3A%20null%2C%20%22dashOffset%22%3A%20null%2C%20%22fill%22%3A%20false%2C%20%22fillColor%22%3A%20%22red%22%2C%20%22fillOpacity%22%3A%200.2%2C%20%22fillRule%22%3A%20%22evenodd%22%2C%20%22lineCap%22%3A%20%22round%22%2C%20%22lineJoin%22%3A%20%22round%22%2C%20%22noClip%22%3A%20false%2C%20%22opacity%22%3A%201.0%2C%20%22smoothFactor%22%3A%201.0%2C%20%22stroke%22%3A%20true%2C%20%22weight%22%3A%203%7D%0A%20%20%20%20%20%20%20%20%20%20%20%20%29.addTo%28map_f009e9eb130f4ebcadca21fbbd1cbf97%29%3B%0A%20%20%20%20%20%20%20%20%0A%20%20%20%20%0A%20%20%20%20%20%20%20%20%20%20%20%20poly_line_e51e41ee38204e76b10140ad3ce9606d.bindTooltip%28%0A%20%20%20%20%20%20%20%20%20%20%20%20%20%20%20%20%60%3Cdiv%3E%0A%20%20%20%20%20%20%20%20%20%20%20%20%20%20%20%20%20%20%20%20%20Polyline%0A%20%20%20%20%20%20%20%20%20%20%20%20%20%20%20%20%20%3C/div%3E%60%2C%0A%20%20%20%20%20%20%20%20%20%20%20%20%20%20%20%20%7B%22sticky%22%3A%20true%7D%0A%20%20%20%20%20%20%20%20%20%20%20%20%29%3B%0A%20%20%20%20%20%20%20%20%0A%20%20%20%20%0A%20%20%20%20%20%20%20%20%20%20%20%20var%20poly_line_030b869d52384af393f35fd5d565e3b8%20%3D%20L.polyline%28%0A%20%20%20%20%20%20%20%20%20%20%20%20%20%20%20%20%5B%5B37.549251675493615%2C%20127.07530293617272%5D%2C%20%5B37.54980726321715%2C%20127.0756755868919%5D%2C%20%5B37.549902179140716%2C%20127.07523170256611%5D%2C%20%5B37.55055986584567%2C%20127.0759480579611%5D%2C%20%5B37.55110582583723%2C%20127.07643739619515%5D%2C%20%5B37.55157777069915%2C%20127.0759161379555%5D%2C%20%5B37.55185946586515%2C%20127.07546721519068%5D%2C%20%5B37.553577581057965%2C%20127.07332768642439%5D%2C%20%5B37.55329940151409%2C%20127.0727589495143%5D%2C%20%5B37.55315831527769%2C%20127.07268543992201%5D%2C%20%5B37.552810106964884%2C%20127.07209538249818%5D%2C%20%5B37.55288322184546%2C%20127.07199425394853%5D%2C%20%5B37.55288359922824%2C%20127.07206322068788%5D%2C%20%5B37.55290146492244%2C%20127.07203808380518%5D%2C%20%5B37.55285469013164%2C%20127.07196617570979%5D%2C%20%5B37.55253187577047%2C%20127.0715825532414%5D%2C%20%5B37.552149994875904%2C%20127.07150320688643%5D%2C%20%5B37.552127289114104%2C%20127.07182455653897%5D%2C%20%5B37.552050281110944%2C%20127.07159254157548%5D%2C%20%5B37.552041738548716%2C%20127.07155186403173%5D%2C%20%5B37.55193319324765%2C%20127.07108948982794%5D%2C%20%5B37.551228398820925%2C%20127.07125874218235%5D%2C%20%5B37.54805211539262%2C%20127.07211607346862%5D%2C%20%5B37.54806372246886%2C%20127.07269439473744%5D%2C%20%5B37.547692250984376%2C%20127.0730527734858%5D%2C%20%5B37.54766715492698%2C%20127.07330670356528%5D%2C%20%5B37.54766850216823%2C%20127.07333243122781%5D%2C%20%5B37.54760550988759%2C%20127.07336965568057%5D%2C%20%5B37.54769778862004%2C%20127.0733226416855%5D%2C%20%5B37.54763343201589%2C%20127.0734026380585%5D%2C%20%5B37.547664461019664%2C%20127.07339534372436%5D%2C%20%5B37.54840014638094%2C%20127.07482188942274%5D%2C%20%5B37.54834028416612%2C%20127.0748266601811%5D%2C%20%5B37.54845809397996%2C%20127.07492178430698%5D%2C%20%5B37.5492260638259%2C%20127.07527435697138%5D%5D%2C%0A%20%20%20%20%20%20%20%20%20%20%20%20%20%20%20%20%7B%22bubblingMouseEvents%22%3A%20true%2C%20%22color%22%3A%20%22blue%22%2C%20%22dashArray%22%3A%20null%2C%20%22dashOffset%22%3A%20null%2C%20%22fill%22%3A%20false%2C%20%22fillColor%22%3A%20%22blue%22%2C%20%22fillOpacity%22%3A%200.2%2C%20%22fillRule%22%3A%20%22evenodd%22%2C%20%22lineCap%22%3A%20%22round%22%2C%20%22lineJoin%22%3A%20%22round%22%2C%20%22noClip%22%3A%20false%2C%20%22opacity%22%3A%201.0%2C%20%22smoothFactor%22%3A%201.0%2C%20%22stroke%22%3A%20true%2C%20%22weight%22%3A%203%7D%0A%20%20%20%20%20%20%20%20%20%20%20%20%29.addTo%28map_f009e9eb130f4ebcadca21fbbd1cbf97%29%3B%0A%20%20%20%20%20%20%20%20%0A%20%20%20%20%0A%20%20%20%20%20%20%20%20%20%20%20%20poly_line_030b869d52384af393f35fd5d565e3b8.bindTooltip%28%0A%20%20%20%20%20%20%20%20%20%20%20%20%20%20%20%20%60%3Cdiv%3E%0A%20%20%20%20%20%20%20%20%20%20%20%20%20%20%20%20%20%20%20%20%20Polyline%0A%20%20%20%20%20%20%20%20%20%20%20%20%20%20%20%20%20%3C/div%3E%60%2C%0A%20%20%20%20%20%20%20%20%20%20%20%20%20%20%20%20%7B%22sticky%22%3A%20true%7D%0A%20%20%20%20%20%20%20%20%20%20%20%20%29%3B%0A%20%20%20%20%20%20%20%20%0A%3C/script%3E onload=\"this.contentDocument.open();this.contentDocument.write(    decodeURIComponent(this.getAttribute('data-html')));this.contentDocument.close();\" allowfullscreen webkitallowfullscreen mozallowfullscreen></iframe></div></div>"
      ],
      "text/plain": [
       "<folium.folium.Map at 0x1f3282c00d0>"
      ]
     },
     "execution_count": 45,
     "metadata": {},
     "output_type": "execute_result"
    }
   ],
   "source": [
    "draw_Polyline_map(Filter_map,kyounghwan_raw,\"red\")\n",
    "draw_Polyline_map(Filter_map,kyounghwan_noise,\"blue\")\n",
    "Filter_map"
   ]
  }
 ],
 "metadata": {
  "kernelspec": {
   "display_name": "Python 3.8.5 ('wifi')",
   "language": "python",
   "name": "python3"
  },
  "language_info": {
   "codemirror_mode": {
    "name": "ipython",
    "version": 3
   },
   "file_extension": ".py",
   "mimetype": "text/x-python",
   "name": "python",
   "nbconvert_exporter": "python",
   "pygments_lexer": "ipython3",
   "version": "3.8.5 (default, Sep  3 2020, 21:29:08) [MSC v.1916 64 bit (AMD64)]"
  },
  "orig_nbformat": 4,
  "vscode": {
   "interpreter": {
    "hash": "c91022f29e5629089bc7e67134e9b7edd658fd95461bf2edd86049ce150f6801"
   }
  }
 },
 "nbformat": 4,
 "nbformat_minor": 2
}
